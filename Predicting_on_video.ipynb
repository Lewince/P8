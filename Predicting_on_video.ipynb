{
 "cells": [
  {
   "cell_type": "markdown",
   "id": "56ceae9b-efab-4f05-a4ca-cea7c1ca83fa",
   "metadata": {},
   "source": [
    "# <center>Processing Cityscapes videos with Keras/tf segmentation model and OpenCV<center>  \n",
    "Imports : "
   ]
  },
  {
   "cell_type": "code",
   "execution_count": 1,
   "id": "e4a1eabf-a089-4f46-9713-fdfa8c35631b",
   "metadata": {},
   "outputs": [
    {
     "name": "stdout",
     "output_type": "stream",
     "text": [
      "Segmentation Models: using `tf.keras` framework.\n"
     ]
    }
   ],
   "source": [
    "import cv2\n",
    "import numpy as np\n",
    "import os\n",
    "import tensorflow as tf\n",
    "os.environ[\"SM_FRAMEWORK\"] = \"tf.keras\"\n",
    "from segmentation_models.losses import bce_jaccard_loss\n",
    "from segmentation_models.metrics import iou_score\n",
    "from tensorflow.keras.preprocessing import image\n",
    "from tensorflow.keras.applications.vgg16 import preprocess_input\n",
    "import time"
   ]
  },
  {
   "cell_type": "markdown",
   "id": "f502e175-c543-4c66-81d7-5d2ab8ac87d6",
   "metadata": {},
   "source": [
    "Functions and configuration : "
   ]
  },
  {
   "cell_type": "code",
   "execution_count": 2,
   "id": "a161bda0-4203-4d56-a6aa-7234c8f98485",
   "metadata": {},
   "outputs": [],
   "source": [
    "model_path = 'C://Users//Lewin//Downloads//OC//Projet_8//Flask_webapp//azureml-models//Unet_vgg16_fullaugm_cpu//1//model'\n",
    "image_size = (224, 224)\n",
    "\n",
    "# Custom metric used by model : \n",
    "def dice_coeff(y_true, y_pred):\n",
    "    smooth = 1.\n",
    "    y_true_f = K.flatten(y_true)\n",
    "    y_pred_f = K.flatten(y_pred)\n",
    "    intersection = K.sum(y_true_f * y_pred_f)\n",
    "    score = (2. * intersection + smooth) / (K.sum(y_true_f) + K.sum(y_pred_f) + smooth)\n",
    "    return score\n",
    "\n",
    "# Grouping object class labels into main categories\n",
    "cats = {'void': [0, 1, 2, 3, 4, 5, 6],\n",
    " 'flat': [7, 8, 9, 10],\n",
    " 'construction': [11, 12, 13, 14, 15, 16],\n",
    " 'object': [17, 18, 19, 20],\n",
    " 'nature': [21, 22],\n",
    " 'sky': [23],\n",
    " 'human': [24, 25],\n",
    " 'vehicle': [26, 27, 28, 29, 30, 31, 32, 33, -1]}\n",
    "\n",
    "# Configuring colors for each object category\n",
    "category_colors = [[0.,0.,0.],\n",
    "              [128.,128.,128.],\n",
    "              [255.,128.,0.],\n",
    "              [255.,255.,0.],\n",
    "              [0.,255.,0.],\n",
    "              [0.,0.,255.],\n",
    "              [255.,0.,0.],\n",
    "              [255.,255.,255.]\n",
    "              ]\n",
    "# Building color image from predicted mask\n",
    "def colorize_predicted_mask(mask, category_colors=category_colors): \n",
    "    color_mask = np.zeros((mask.shape[0], mask.shape[1], 3))\n",
    "    for frame, cat in enumerate(cats.keys()) :     \n",
    "        color_mask[np.where(np.argmax(mask,axis=-1) == frame)] = category_colors[frame]\n",
    "    return color_mask"
   ]
  },
  {
   "cell_type": "markdown",
   "id": "5764716e-2aae-4b83-a9bc-cafe1a6d39a0",
   "metadata": {},
   "source": [
    "Load model : "
   ]
  },
  {
   "cell_type": "code",
   "execution_count": 3,
   "id": "19432bdf-0323-45e9-b24d-96e52ec2ac02",
   "metadata": {},
   "outputs": [],
   "source": [
    "\n",
    "model = tf.keras.models.load_model(model_path, custom_objects={\n",
    "    'binary_crossentropy_plus_jaccard_loss':bce_jaccard_loss,\n",
    "    'dice_coeff':dice_coeff,\n",
    "    'iou_score': iou_score})"
   ]
  },
  {
   "cell_type": "markdown",
   "id": "c02db827-83ac-43ba-ba28-dfe8abb94dbe",
   "metadata": {},
   "source": [
    "Predict object classes for each frame, blend image and predicted mask then write resulting images to video file while monitoring frames in cv2 imshow window : "
   ]
  },
  {
   "cell_type": "code",
   "execution_count": 4,
   "id": "c87ef0fc-9302-45ed-802f-01a6df837852",
   "metadata": {},
   "outputs": [
    {
     "name": "stdout",
     "output_type": "stream",
     "text": [
      "Ignoring empty camera frame.\n"
     ]
    }
   ],
   "source": [
    "# Instantiate video capture and writer : \n",
    "vid = cv2.VideoCapture('C://Users//Lewin//Downloads//OC//post-training//busycityintersection.mp4')\n",
    "# t = time.time()\n",
    "fourcc = cv2.VideoWriter_fourcc('M','P','4','V')\n",
    "out = cv2.VideoWriter('C://Users//Lewin//Downloads//OC//post-training//segmented.mp4', fourcc, 30.0, image_size, True)\n",
    "\n",
    "# predict object class and create blended image for each frame : \n",
    "while vid.isOpened():\n",
    "    # read and resize frame : \n",
    "    success, frame = vid.read()\n",
    "    if not success:\n",
    "        print(\"Ignoring empty camera frame.\")\n",
    "        break\n",
    "    img = cv2.resize(frame, image_size)\n",
    "    # predict segmented image and blend with original video frame : \n",
    "    y_pred = model.predict(preprocess_input(img[tf.newaxis, ...]))\n",
    "    predicted_mask = cv2.cvtColor(np.float32(colorize_predicted_mask(y_pred[0])), cv2.COLOR_RGB2BGR)\n",
    "    alpha = 0.25\n",
    "    annotated_image = cv2.addWeighted(image.img_to_array(img), alpha, image.img_to_array(predicted_mask), 1-alpha, 0)      \n",
    "    # Save blended image to video file\n",
    "    out.write(annotated_image.astype('uint8'))\n",
    "    # Monitor while processing : \n",
    "    cv2.imshow('Segmented Video', annotated_image)\n",
    "    if cv2.waitKey(5) & 0xFF == 27:\n",
    "        cv2.destroyWindow('Segmented Video')\n",
    "        break\n",
    "    # print (f\"{t-time.time()}\")\n",
    "out.release()\n",
    "vid.release()\n",
    "cv2.destroyAllWindows()"
   ]
  },
  {
   "cell_type": "markdown",
   "id": "085f4946-f6b7-428b-b3d1-82df7dd1cced",
   "metadata": {},
   "source": [
    "Checking generated video : "
   ]
  },
  {
   "cell_type": "code",
   "execution_count": 5,
   "id": "7b8c2b76-d7ba-4a9d-b240-370998472648",
   "metadata": {},
   "outputs": [
    {
     "name": "stdout",
     "output_type": "stream",
     "text": [
      "Ignoring empty camera frame.\n"
     ]
    }
   ],
   "source": [
    "vid = cv2.VideoCapture('C://Users//Lewin//Downloads//OC//post-training//segmented.mp4')\n",
    "\n",
    "if vid.isOpened() == False:\n",
    "    print(\"ERROR OPENING FILE\")\n",
    "\n",
    "while vid.isOpened():\n",
    "    success, frame = vid.read()\n",
    "    if success:\n",
    "        cv2.imshow('Segmented Video', frame)\n",
    "        if cv2.waitKey(25) & 0xFF == 27:\n",
    "            cv2. destroyWindow('Segmented Video')\n",
    "            break\n",
    "    else:    \n",
    "        print(\"Ignoring empty camera frame.\")\n",
    "        break    \n",
    "vid.release()"
   ]
  },
  {
   "cell_type": "code",
   "execution_count": null,
   "id": "270592a4-ea6c-49c3-9c67-860e2cc620b0",
   "metadata": {},
   "outputs": [],
   "source": []
  }
 ],
 "metadata": {
  "kernelspec": {
   "display_name": "Python 3",
   "language": "python",
   "name": "python3"
  },
  "language_info": {
   "codemirror_mode": {
    "name": "ipython",
    "version": 3
   },
   "file_extension": ".py",
   "mimetype": "text/x-python",
   "name": "python",
   "nbconvert_exporter": "python",
   "pygments_lexer": "ipython3",
   "version": "3.8.10"
  }
 },
 "nbformat": 4,
 "nbformat_minor": 5
}
