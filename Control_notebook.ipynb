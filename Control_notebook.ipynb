{
 "cells": [
  {
   "cell_type": "markdown",
   "id": "fundamental-river",
   "metadata": {},
   "source": [
    "# Notebook de contrôle d'entraînement sur Azure ML\n",
    "##### Stockage des données sur cloud effectué en amont "
   ]
  },
  {
   "cell_type": "markdown",
   "id": "sonic-partner",
   "metadata": {},
   "source": [
    "### Lancement d'une session Azure, ouverture du workspace et création d'une expérience et d'une ressource de calcul"
   ]
  },
  {
   "cell_type": "code",
   "execution_count": null,
   "id": "found-appeal",
   "metadata": {},
   "outputs": [],
   "source": [
    "cd C:\\\\Users\\\\Lewin\\\\Downloads\\\\OC\\\\Projet_8\\\\"
   ]
  },
  {
   "cell_type": "code",
   "execution_count": null,
   "id": "inclusive-chemistry",
   "metadata": {},
   "outputs": [],
   "source": [
    "import azureml.core\n",
    "print(azureml.core.VERSION)"
   ]
  },
  {
   "cell_type": "code",
   "execution_count": null,
   "id": "beautiful-georgia",
   "metadata": {},
   "outputs": [],
   "source": [
    "from azureml.core import Workspace\n",
    "ws=Workspace.from_config()\n",
    "print(ws.name, ws.location, ws.resource_group, sep='\\t')"
   ]
  },
  {
   "cell_type": "code",
   "execution_count": null,
   "id": "electric-colonial",
   "metadata": {},
   "outputs": [],
   "source": [
    "from azureml.core import Experiment\n",
    "experiment_name = 'HRnet-final'\n",
    "exp = Experiment(workspace=ws, name=experiment_name)"
   ]
  },
  {
   "cell_type": "code",
   "execution_count": null,
   "id": "identical-morning",
   "metadata": {},
   "outputs": [],
   "source": [
    "from azureml.core.compute import AmlCompute\n",
    "from azureml.core.compute import ComputeTarget\n",
    "import os\n",
    "\n",
    "# Cluster definition\n",
    "compute_name = os.environ.get(\"AML_COMPUTE_CLUSTER_NAME\", \"gpucluster\")\n",
    "compute_min_nodes = os.environ.get(\"AML_COMPUTE_CLUSTER_MIN_NODES\", 0)\n",
    "compute_max_nodes = os.environ.get(\"AML_COMPUTE_CLUSTER_MAX_NODES\", 1)\n",
    "\n",
    "# VM definition - STANDARD_NC6 (GPU VM) had a promotional offer at project time\n",
    "vm_size = os.environ.get(\"AML_COMPUTE_CLUSTER_SKU\", \"STANDARD_NC6_Promo\")\n",
    "\n",
    "# Check if a compute is available before creating one\n",
    "if compute_name in ws.compute_targets:\n",
    "    compute_target = ws.compute_targets[compute_name]\n",
    "    if compute_target and type(compute_target) is AmlCompute:\n",
    "        print('found compute target. just use it. ' + compute_name)\n",
    "else:\n",
    "    print('creating a new compute target...')\n",
    "    provisioning_config = AmlCompute.provisioning_configuration(vm_size=vm_size,\n",
    "                                                                min_nodes=compute_min_nodes,\n",
    "                                                                max_nodes=compute_max_nodes)\n",
    "\n",
    "    # create the cluster\n",
    "    compute_target = ComputeTarget.create(\n",
    "        ws, compute_name, provisioning_config)\n",
    "\n",
    "    # Wait for cluster creation to be complete\n",
    "    compute_target.wait_for_completion(\n",
    "        show_output=True, min_node_count=None, timeout_in_minutes=20)\n",
    "\n",
    "    # Print compute details\n",
    "    print(compute_target.get_status().serialize())"
   ]
  },
  {
   "cell_type": "code",
   "execution_count": null,
   "id": "alpine-staff",
   "metadata": {},
   "outputs": [],
   "source": [
    "ds = ws.get_default_datastore()\n",
    "print(ds)"
   ]
  },
  {
   "cell_type": "code",
   "execution_count": null,
   "id": "present-quarterly",
   "metadata": {
    "scrolled": true
   },
   "outputs": [],
   "source": [
    "# for n,items in ws.datastores.items():\n",
    "#     print(items)"
   ]
  },
  {
   "cell_type": "markdown",
   "id": "artificial-remainder",
   "metadata": {},
   "source": [
    "Ligne d'upload du dataset - à garder en commentaire une fois les données envoyées une fois : "
   ]
  },
  {
   "cell_type": "code",
   "execution_count": null,
   "id": "difficult-leave",
   "metadata": {
    "scrolled": true,
    "tags": []
   },
   "outputs": [],
   "source": [
    "# ds.upload(src_dir=\"C:\\\\Users\\\\Lewin\\\\Downloads\\\\OC\\\\Projet_8\\\\data\", target_path='cityscapes_data', overwrite=True, show_progress=True)"
   ]
  },
  {
   "cell_type": "code",
   "execution_count": null,
   "id": "introductory-painting",
   "metadata": {},
   "outputs": [],
   "source": [
    "ds.path('./cityscapes_data').as_mount()"
   ]
  },
  {
   "cell_type": "markdown",
   "id": "unlimited-darkness",
   "metadata": {},
   "source": [
    "### Création du script d'entraînement et exécution d'un entraînement"
   ]
  },
  {
   "cell_type": "code",
   "execution_count": null,
   "id": "technological-subscriber",
   "metadata": {},
   "outputs": [],
   "source": [
    "import os\n",
    "script_folder = 'C:\\\\Users\\\\Lewin\\\\Downloads\\\\OC\\\\Projet_8\\\\Azure_scripts'\n",
    "os.makedirs(script_folder, exist_ok=True)"
   ]
  },
  {
   "cell_type": "code",
   "execution_count": null,
   "id": "sixth-malta",
   "metadata": {},
   "outputs": [],
   "source": [
    "script_folder"
   ]
  },
  {
   "cell_type": "markdown",
   "id": "organized-persian",
   "metadata": {},
   "source": [
    "### Version ancienne - classe Estimator"
   ]
  },
  {
   "cell_type": "code",
   "execution_count": null,
   "id": "authentic-melissa",
   "metadata": {},
   "outputs": [],
   "source": [
    "from azureml.train.estimator import Estimator\n",
    "\n",
    "\n",
    "script_args = {'--workspace': ws.name,\n",
    "               '--datafolder': ds.path('cityscapes_data/').as_mount(),\n",
    "               '--epochs': 100\n",
    "               }\n",
    "est = Estimator(source_directory = script_folder,\n",
    "               script_params=script_args,\n",
    "               compute_target=compute_target,\n",
    "               entry_script='HRnet_training_script.py',\n",
    "               pip_packages=['pandas','tensorflow-gpu','numpy','matplotlib', 'opencv-python', 'tqdm'])\n"
   ]
  },
  {
   "cell_type": "code",
   "execution_count": null,
   "id": "tracked-country",
   "metadata": {},
   "outputs": [],
   "source": [
    "# Création d'un run avant exécution\n",
    "run = exp.submit(config=est)\n"
   ]
  },
  {
   "cell_type": "markdown",
   "id": "portuguese-deadline",
   "metadata": {},
   "source": [
    "### Version la plus récente et multiworker : classe ScriptRunConfig : "
   ]
  },
  {
   "cell_type": "code",
   "execution_count": null,
   "id": "traditional-sentence",
   "metadata": {},
   "outputs": [],
   "source": [
    "from azureml.core import ScriptRunConfig, Environment, Experiment, Dataset\n",
    "from azureml.core.runconfig import TensorflowConfiguration\n",
    "from azureml.core.conda_dependencies import CondaDependencies\n",
    "from azureml.pipeline.core.graph import PipelineParameter\n",
    "from azureml.data.dataset_consumption_config import DatasetConsumptionConfig\n",
    "\n",
    "curated_env_name = 'AzureML-tensorflow-2.4-ubuntu18.04-py37-cuda11-gpu'\n",
    "tf_env = Environment.get(workspace=ws,name=curated_env_name).clone('tf_env')\n",
    "distr_config = TensorflowConfiguration(worker_count=1, parameter_server_count=1)\n",
    "\n",
    "conda_dep = CondaDependencies()\n",
    "conda_dep.add_pip_package('numpy')\n",
    "conda_dep.add_pip_package('pandas')\n",
    "conda_dep.add_pip_package('matplotlib')\n",
    "conda_dep.add_pip_package('tqdm')\n",
    "tf_env.python.conda_dependencies=conda_dep\n",
    "\n",
    "# Adds dependencies to PythonSection of myenv\n",
    "dataset = Dataset.get_by_name(ws, name='data')\n",
    "file_pipeline_param = PipelineParameter(name=\"file_ds_param\", default_value=dataset)\n",
    "dataset_input = DatasetConsumptionConfig(\"input_1\", file_pipeline_param).as_mount()\n",
    "datastore = ws.get_default_datastore()\n",
    "data_ref = datastore.path('cityscapes_data').as_mount()\n",
    "\n",
    "argslist = ['--workspace', ws.name, '--datafolder', str(data_ref), '--epochs', 100]\n",
    "\n",
    "multi_config = ScriptRunConfig(\n",
    "source_directory = script_folder,\n",
    "arguments = argslist,\n",
    "script = 'HRnet_training_script.py',\n",
    "compute_target = compute_target,\n",
    "environment = tf_env,\n",
    "distributed_job_config = distr_config)\n",
    "multi_config.run_config.data_references = {data_ref.data_reference_name: data_ref.to_config()}"
   ]
  },
  {
   "cell_type": "markdown",
   "id": "ranking-palace",
   "metadata": {},
   "source": [
    "### Exécution de l'experiment : "
   ]
  },
  {
   "cell_type": "code",
   "execution_count": null,
   "id": "bulgarian-article",
   "metadata": {},
   "outputs": [],
   "source": [
    "run = exp.submit(config=multi_config)"
   ]
  },
  {
   "cell_type": "code",
   "execution_count": null,
   "id": "ignored-device",
   "metadata": {},
   "outputs": [],
   "source": [
    "# Pour raccrocher le run en cas de coupure réseau pendant l'exécution : \n",
    "# from azureml.core.run import get_run\n",
    "# run_id = 'vanilla_unet_v1_1628877112_860e5a75'\n",
    "# run = get_run(exp, run_id, rehydrate = True)"
   ]
  },
  {
   "cell_type": "code",
   "execution_count": null,
   "id": "honest-completion",
   "metadata": {},
   "outputs": [],
   "source": [
    "from azureml.widgets import RunDetails\n",
    "RunDetails(run).show()"
   ]
  },
  {
   "cell_type": "code",
   "execution_count": null,
   "id": "external-composition",
   "metadata": {
    "scrolled": true
   },
   "outputs": [],
   "source": [
    "run.wait_for_completion(show_output=True)\n"
   ]
  },
  {
   "cell_type": "markdown",
   "id": "accessory-handle",
   "metadata": {},
   "source": [
    "### Enregistrement du modèle et suppression du cluster de calcul: "
   ]
  },
  {
   "cell_type": "code",
   "execution_count": null,
   "id": "norman-guess",
   "metadata": {},
   "outputs": [],
   "source": [
    "model = run.register_model(model_name='hrnet', model_path='outputs/hrnet')"
   ]
  },
  {
   "cell_type": "code",
   "execution_count": null,
   "id": "wanted-stake",
   "metadata": {},
   "outputs": [],
   "source": [
    "compute_target.delete()"
   ]
  }
 ],
 "metadata": {
  "kernelspec": {
   "display_name": "Python 3",
   "language": "python",
   "name": "python3"
  },
  "language_info": {
   "codemirror_mode": {
    "name": "ipython",
    "version": 3
   },
   "file_extension": ".py",
   "mimetype": "text/x-python",
   "name": "python",
   "nbconvert_exporter": "python",
   "pygments_lexer": "ipython3",
   "version": "3.9.1"
  }
 },
 "nbformat": 4,
 "nbformat_minor": 5
}
